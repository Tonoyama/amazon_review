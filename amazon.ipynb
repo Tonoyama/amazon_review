{
  "nbformat": 4,
  "nbformat_minor": 0,
  "metadata": {
    "language_info": {
      "codemirror_mode": {
        "name": "ipython",
        "version": 3
      },
      "file_extension": ".py",
      "mimetype": "text/x-python",
      "name": "python",
      "nbconvert_exporter": "python",
      "pygments_lexer": "ipython3",
      "version": "3.9.1-final"
    },
    "orig_nbformat": 2,
    "kernelspec": {
      "name": "python3",
      "display_name": "Python 3.9.1 64-bit",
      "metadata": {
        "interpreter": {
          "hash": "aee8b7b246df8f9039afb4144a1f6fd8d2ca17a180786b69acc140d282b71a49"
        }
      }
    },
    "colab": {
      "name": "amazon.ipynb",
      "provenance": [],
      "include_colab_link": true
    }
  },
  "cells": [
    {
      "cell_type": "markdown",
      "metadata": {
        "id": "view-in-github",
        "colab_type": "text"
      },
      "source": [
        "<a href=\"https://colab.research.google.com/github/Tonoyama/amazon_review/blob/master/amazon.ipynb\" target=\"_parent\"><img src=\"https://colab.research.google.com/assets/colab-badge.svg\" alt=\"Open In Colab\"/></a>"
      ]
    },
    {
      "cell_type": "markdown",
      "metadata": {
        "id": "TR_MzPj05S14"
      },
      "source": [
        "# Amazon レビュー分析"
      ]
    },
    {
      "cell_type": "markdown",
      "metadata": {
        "id": "BRU48YpK5S19"
      },
      "source": [
        "## データ収集\n"
      ]
    },
    {
      "cell_type": "code",
      "metadata": {
        "id": "QgU-i3Rk5S19"
      },
      "source": [
        "!curl http://deepyeti.ucsd.edu/jianmo/amazon/categoryFiles/Magazine_Subscriptions.json.gz -o Magazine.gz"
      ],
      "execution_count": null,
      "outputs": []
    },
    {
      "cell_type": "code",
      "metadata": {
        "id": "lFbg6aUW5S1-"
      },
      "source": [
        "!gzip -d Magazine.gz"
      ],
      "execution_count": null,
      "outputs": []
    },
    {
      "cell_type": "code",
      "metadata": {
        "id": "7UFzmb_E5S1-"
      },
      "source": [
        "!mv Magazine Magazine.json"
      ],
      "execution_count": null,
      "outputs": []
    },
    {
      "cell_type": "markdown",
      "metadata": {
        "id": "3QC5m1DR5S1-"
      },
      "source": [
        "## EDA(探索的データ解析)"
      ]
    },
    {
      "cell_type": "code",
      "metadata": {
        "id": "UuSNQgMN5S1_"
      },
      "source": [
        "import pandas as pd\n",
        "import json"
      ],
      "execution_count": null,
      "outputs": []
    },
    {
      "cell_type": "code",
      "metadata": {
        "id": "7Fw-WVS95S1_"
      },
      "source": [
        "df_f = pd.read_json('Magazine.json', lines=True)\n",
        "df_f.head()"
      ],
      "execution_count": null,
      "outputs": []
    },
    {
      "cell_type": "code",
      "metadata": {
        "id": "z_abFbQz5S2A"
      },
      "source": [
        "df_f.shape"
      ],
      "execution_count": null,
      "outputs": []
    },
    {
      "cell_type": "markdown",
      "metadata": {
        "id": "wgAG588i5S2A"
      },
      "source": [
        "目的変数として `overall` を取り出す。\n"
      ]
    },
    {
      "cell_type": "code",
      "metadata": {
        "id": "BCfkeOkJ5S2A"
      },
      "source": [
        "y = df_f.loc[:,['overall']]\n",
        "y.value_counts()"
      ],
      "execution_count": null,
      "outputs": []
    },
    {
      "cell_type": "markdown",
      "metadata": {
        "id": "ANHJE24W5S2B"
      },
      "source": [
        "星評価を plot する。"
      ]
    },
    {
      "cell_type": "code",
      "metadata": {
        "id": "K5TMx3j55S2B"
      },
      "source": [
        "import seaborn as sns\n",
        "import matplotlib.pyplot as plt"
      ],
      "execution_count": null,
      "outputs": []
    },
    {
      "cell_type": "code",
      "metadata": {
        "id": "NAXvomFW5S2B"
      },
      "source": [
        "plt.figure(figsize=(10,5))\n",
        "sns.countplot(x='overall',data=df_f)\n",
        "plt.show()"
      ],
      "execution_count": null,
      "outputs": []
    },
    {
      "cell_type": "markdown",
      "metadata": {
        "id": "JHJMmboJ5S2B"
      },
      "source": [
        "説明変数として、`vote`(投票), `verified`(認証済み),`reviewTime`(レビューした時間),`reviewerID`(レビュワーID),`asin`(プロダクト ID), `reviewText`(レビューテキスト), `summary`(要約) \n"
      ]
    },
    {
      "cell_type": "code",
      "metadata": {
        "id": "aKVdmCsx5S2B"
      },
      "source": [
        "x = df_f.loc[:,['vote', 'verified','reviewTime', 'reviewerID', 'asin', 'reviewText', 'summary']]\n",
        "x.head()"
      ],
      "execution_count": null,
      "outputs": []
    },
    {
      "cell_type": "code",
      "metadata": {
        "id": "dBg9suii5S2C"
      },
      "source": [
        "x.describe()"
      ],
      "execution_count": null,
      "outputs": []
    },
    {
      "cell_type": "markdown",
      "metadata": {
        "id": "XCwZSj1B5S2C"
      },
      "source": [
        "### 前処理"
      ]
    },
    {
      "cell_type": "markdown",
      "metadata": {
        "id": "RY9TLtAU5S2C"
      },
      "source": [
        "欠損値(`NaN`) の有無を調べる\n"
      ]
    },
    {
      "cell_type": "code",
      "metadata": {
        "id": "lsYz2ZtV5S2C"
      },
      "source": [
        "y.isnull().sum()"
      ],
      "execution_count": null,
      "outputs": []
    },
    {
      "cell_type": "code",
      "metadata": {
        "id": "1up-D4c_5S2D"
      },
      "source": [
        "x.isnull().sum()"
      ],
      "execution_count": null,
      "outputs": []
    },
    {
      "cell_type": "markdown",
      "metadata": {
        "id": "NhMOdHB65S2D"
      },
      "source": [
        "今回は、投票の欠損値を `0` で埋める。\n"
      ]
    },
    {
      "cell_type": "code",
      "metadata": {
        "id": "398_iZQf5S2D"
      },
      "source": [
        "x['vote'] = x['vote'].fillna(0)\n",
        "x.head()"
      ],
      "execution_count": null,
      "outputs": []
    },
    {
      "cell_type": "markdown",
      "metadata": {
        "id": "x3O8cUc_4TDr"
      },
      "source": [
        "数字に `,` があるとエラーになるため、replaceで空文字に変換する "
      ]
    },
    {
      "cell_type": "code",
      "metadata": {
        "id": "BtDt6lzJ5S2D"
      },
      "source": [
        "x = x.str.replace('^[1-9]+', '')"
      ],
      "execution_count": null,
      "outputs": []
    },
    {
      "cell_type": "code",
      "metadata": {
        "id": "CB54iRez7PCr"
      },
      "source": [
        "from wordcloud import WordCloud"
      ],
      "execution_count": null,
      "outputs": []
    },
    {
      "cell_type": "code",
      "metadata": {
        "id": "7Y7cc-qc5S2D"
      },
      "source": [
        "review_text = x['reviewText'].values \n",
        "\n",
        "wc = WordCloud(\n",
        "    min_font_size=3,\n",
        "    max_words = 3000,\n",
        "    background_color='white'\n",
        "    )\n",
        "\n",
        "review_wordcloud = wc.generate(str(review_text))\n",
        "\n",
        "plt.figure(figsize = (10,10))\n",
        "plt.imshow(review_wordcloud, interpolation = 'bilinear')\n",
        "plt.axis(\"off\")\n",
        "plt.show()"
      ],
      "execution_count": null,
      "outputs": []
    },
    {
      "cell_type": "code",
      "metadata": {
        "id": "jnRUDwxP5S2D"
      },
      "source": [
        "summary_text = x['summary'].values \n",
        "\n",
        "summary_wordcloud = wc.generate(str(summary_text))\n",
        "\n",
        "plt.figure(figsize = (10,10))\n",
        "plt.imshow(review_wordcloud, interpolation = 'bilinear')\n",
        "plt.axis(\"off\")\n",
        "plt.show()"
      ],
      "execution_count": null,
      "outputs": []
    },
    {
      "cell_type": "markdown",
      "metadata": {
        "id": "xDdUdm2-EbuR"
      },
      "source": [
        "2つだけ取りだして学習データにする。"
      ]
    },
    {
      "cell_type": "code",
      "metadata": {
        "id": "-yq6cYaEE7jO"
      },
      "source": [
        "from sklearn.model_selection import train_test_split"
      ],
      "execution_count": null,
      "outputs": []
    },
    {
      "cell_type": "code",
      "metadata": {
        "id": "HxNiADaU1bvg"
      },
      "source": [
        "x_train, x_test, y_train, y_test = train_test_split(x, y, train_size=0.8, test_size=0.2)\n",
        "print(x_train, x_test, y_train, y_test)"
      ],
      "execution_count": null,
      "outputs": []
    },
    {
      "cell_type": "code",
      "metadata": {
        "id": "HTawMA733ms7"
      },
      "source": [
        "from sklearn.ensemble import RandomForestClassifier"
      ],
      "execution_count": null,
      "outputs": []
    },
    {
      "cell_type": "code",
      "metadata": {
        "id": "r94MyCc72mOR"
      },
      "source": [
        "x_train = x_train.values\n",
        "print(x_train)\n",
        "clf = RandomForestClassifier(random_state=1234)\n",
        "clf.fit(x_train, y_train)"
      ],
      "execution_count": null,
      "outputs": []
    },
    {
      "cell_type": "code",
      "metadata": {
        "id": "UDqLF-Xx3QzR"
      },
      "source": [
        "print(\"score : \", clf.score(x_test, y_test))"
      ],
      "execution_count": null,
      "outputs": []
    }
  ]
}