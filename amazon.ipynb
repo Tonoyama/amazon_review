{
  "nbformat": 4,
  "nbformat_minor": 0,
  "metadata": {
    "language_info": {
      "codemirror_mode": {
        "name": "ipython",
        "version": 3
      },
      "file_extension": ".py",
      "mimetype": "text/x-python",
      "name": "python",
      "nbconvert_exporter": "python",
      "pygments_lexer": "ipython3",
      "version": "3.9.1-final"
    },
    "orig_nbformat": 2,
    "kernelspec": {
      "name": "python3",
      "display_name": "Python 3.9.1 64-bit",
      "metadata": {
        "interpreter": {
          "hash": "aee8b7b246df8f9039afb4144a1f6fd8d2ca17a180786b69acc140d282b71a49"
        }
      }
    },
    "colab": {
      "name": "amazon.ipynb",
      "provenance": [],
      "include_colab_link": true
    }
  },
  "cells": [
    {
      "cell_type": "markdown",
      "metadata": {
        "id": "view-in-github",
        "colab_type": "text"
      },
      "source": [
        "<a href=\"https://colab.research.google.com/github/Tonoyama/amazon_review/blob/master/amazon.ipynb\" target=\"_parent\"><img src=\"https://colab.research.google.com/assets/colab-badge.svg\" alt=\"Open In Colab\"/></a>"
      ]
    },
    {
      "cell_type": "markdown",
      "metadata": {
        "id": "TR_MzPj05S14"
      },
      "source": [
        "# Amazon レビュー分析"
      ]
    },
    {
      "cell_type": "markdown",
      "metadata": {
        "id": "BRU48YpK5S19"
      },
      "source": [
        "## データ収集\n"
      ]
    },
    {
      "cell_type": "code",
      "metadata": {
        "id": "QgU-i3Rk5S19"
      },
      "source": [
        "!curl http://deepyeti.ucsd.edu/jianmo/amazon/categoryFiles/Magazine_Subscriptions.json.gz -o Magazine.gz"
      ],
      "execution_count": null,
      "outputs": []
    },
    {
      "cell_type": "code",
      "metadata": {
        "id": "lFbg6aUW5S1-"
      },
      "source": [
        "!gzip -d Magazine.gz"
      ],
      "execution_count": null,
      "outputs": []
    },
    {
      "cell_type": "code",
      "metadata": {
        "id": "7UFzmb_E5S1-"
      },
      "source": [
        "!mv Magazine Magazine.json"
      ],
      "execution_count": null,
      "outputs": []
    },
    {
      "cell_type": "markdown",
      "metadata": {
        "id": "3QC5m1DR5S1-"
      },
      "source": [
        "## EDA(探索的データ解析)"
      ]
    },
    {
      "cell_type": "code",
      "metadata": {
        "id": "UuSNQgMN5S1_"
      },
      "source": [
        "import pandas as pd\n",
        "import json"
      ],
      "execution_count": null,
      "outputs": []
    },
    {
      "cell_type": "code",
      "metadata": {
        "id": "7Fw-WVS95S1_"
      },
      "source": [
        "df_f = pd.read_json('Magazine.json', lines=True)\n",
        "df_f.head()"
      ],
      "execution_count": null,
      "outputs": []
    },
    {
      "cell_type": "code",
      "metadata": {
        "id": "8FK6xNDJCQW-"
      },
      "source": [
        "df_f.columns"
      ],
      "execution_count": null,
      "outputs": []
    },
    {
      "cell_type": "code",
      "metadata": {
        "id": "z_abFbQz5S2A"
      },
      "source": [
        "df_f.shape"
      ],
      "execution_count": null,
      "outputs": []
    },
    {
      "cell_type": "markdown",
      "metadata": {
        "id": "c7QKNqNv4e_n"
      },
      "source": [
        "### 星ごとのレビューを取り出す "
      ]
    },
    {
      "cell_type": "code",
      "metadata": {
        "id": "_Srv_yxZ3nRR"
      },
      "source": [
        "review_5 = df_f[df_f['overall'] == 5]\n",
        "review_43 = df_f[(df_f['overall'] == 4) | (df_f['overall'] == 3)]\n",
        "review_21 = df_f[(df_f['overall'] == 2 ) | (df_f['overall'] == 1)]"
      ],
      "execution_count": null,
      "outputs": []
    },
    {
      "cell_type": "code",
      "metadata": {
        "id": "Gg7DFFLI4Xi_"
      },
      "source": [
        "review_43.head()"
      ],
      "execution_count": null,
      "outputs": []
    },
    {
      "cell_type": "markdown",
      "metadata": {
        "id": "wgAG588i5S2A"
      },
      "source": [
        "目的変数として `overall` を取り出す。\n"
      ]
    },
    {
      "cell_type": "code",
      "metadata": {
        "id": "BCfkeOkJ5S2A"
      },
      "source": [
        "y = df_f.loc[:,['overall']]\n",
        "y.value_counts()"
      ],
      "execution_count": null,
      "outputs": []
    },
    {
      "cell_type": "markdown",
      "metadata": {
        "id": "ANHJE24W5S2B"
      },
      "source": [
        "星評価を plot する。"
      ]
    },
    {
      "cell_type": "code",
      "metadata": {
        "id": "K5TMx3j55S2B"
      },
      "source": [
        "import seaborn as sns\n",
        "import matplotlib.pyplot as plt"
      ],
      "execution_count": null,
      "outputs": []
    },
    {
      "cell_type": "code",
      "metadata": {
        "id": "NAXvomFW5S2B"
      },
      "source": [
        "plt.figure(figsize=(10,5))\n",
        "sns.countplot(x='overall',data=df_f)\n",
        "plt.show()"
      ],
      "execution_count": null,
      "outputs": []
    },
    {
      "cell_type": "markdown",
      "metadata": {
        "id": "JHJMmboJ5S2B"
      },
      "source": [
        "説明変数として、`vote`(投票), `verified`(認証済み),`reviewTime`(レビューした時間),`reviewerID`(レビュワーID),`asin`(プロダクト ID), `reviewText`(レビューテキスト), `summary`(要約) \n"
      ]
    },
    {
      "cell_type": "code",
      "metadata": {
        "id": "aKVdmCsx5S2B"
      },
      "source": [
        "x = df_f.loc[:,['vote', 'verified','reviewTime', 'reviewerID', 'asin', 'reviewText', 'summary']]\n",
        "x.head()"
      ],
      "execution_count": null,
      "outputs": []
    },
    {
      "cell_type": "code",
      "metadata": {
        "id": "dBg9suii5S2C"
      },
      "source": [
        "x.describe()"
      ],
      "execution_count": null,
      "outputs": []
    },
    {
      "cell_type": "markdown",
      "metadata": {
        "id": "RY9TLtAU5S2C"
      },
      "source": [
        "欠損値(`NaN`) の有無を調べる\n"
      ]
    },
    {
      "cell_type": "code",
      "metadata": {
        "id": "lsYz2ZtV5S2C"
      },
      "source": [
        "y.isnull().sum()"
      ],
      "execution_count": null,
      "outputs": []
    },
    {
      "cell_type": "code",
      "metadata": {
        "id": "1up-D4c_5S2D"
      },
      "source": [
        "x.isnull().sum()"
      ],
      "execution_count": null,
      "outputs": []
    },
    {
      "cell_type": "markdown",
      "metadata": {
        "id": "NhMOdHB65S2D"
      },
      "source": [
        "今回は、投票の欠損値を `0` で埋める。\n"
      ]
    },
    {
      "cell_type": "code",
      "metadata": {
        "id": "398_iZQf5S2D"
      },
      "source": [
        "x['vote'] = x['vote'].fillna(0)\n",
        "x.head()"
      ],
      "execution_count": null,
      "outputs": []
    },
    {
      "cell_type": "code",
      "metadata": {
        "id": "or5YLNUC9i-U"
      },
      "source": [
        "x = x['reviewText'] + ' ' + x['summary']"
      ],
      "execution_count": null,
      "outputs": []
    },
    {
      "cell_type": "markdown",
      "metadata": {
        "id": "x3O8cUc_4TDr"
      },
      "source": [
        "数字に `,` があるとエラーになるため、replaceで空文字に変換する "
      ]
    },
    {
      "cell_type": "code",
      "metadata": {
        "id": "BtDt6lzJ5S2D"
      },
      "source": [
        "x = x.replace(r',', '')\n",
        "x = x.replace(r'^[1-9]+', '')"
      ],
      "execution_count": null,
      "outputs": []
    },
    {
      "cell_type": "code",
      "metadata": {
        "id": "16K7p9VF-FX7"
      },
      "source": [
        "x.head()"
      ],
      "execution_count": null,
      "outputs": []
    },
    {
      "cell_type": "code",
      "metadata": {
        "id": "b6wljooW-Jw3"
      },
      "source": [
        "x.shape"
      ],
      "execution_count": null,
      "outputs": []
    },
    {
      "cell_type": "code",
      "metadata": {
        "id": "jC0ozu_n-bAF"
      },
      "source": [
        "x = x.astype(str)"
      ],
      "execution_count": null,
      "outputs": []
    },
    {
      "cell_type": "code",
      "metadata": {
        "id": "BV5EianL-iqW"
      },
      "source": [
        "x_df = pd.DataFrame(data=x)\n",
        "x_df.columns = ['review']\n",
        "x_df.head()"
      ],
      "execution_count": null,
      "outputs": []
    },
    {
      "cell_type": "markdown",
      "metadata": {
        "id": "F4yPbJIs74iF"
      },
      "source": [
        "### ワードクラウドで単語をざっとみる"
      ]
    },
    {
      "cell_type": "code",
      "metadata": {
        "id": "CB54iRez7PCr"
      },
      "source": [
        "from wordcloud import WordCloud"
      ],
      "execution_count": null,
      "outputs": []
    },
    {
      "cell_type": "code",
      "metadata": {
        "id": "7Y7cc-qc5S2D"
      },
      "source": [
        "review_text = x['reviewText'].values \n",
        "\n",
        "wc = WordCloud(\n",
        "    min_font_size=3,\n",
        "    max_words = 3000,\n",
        "    background_color='white'\n",
        "    )\n",
        "\n",
        "review_wordcloud = wc.generate(str(review_text))\n",
        "\n",
        "plt.figure(figsize = (10,10))\n",
        "plt.imshow(review_wordcloud, interpolation = 'bilinear')\n",
        "plt.title('reviewText of all stars')\n",
        "plt.axis(\"off\")\n",
        "plt.show()"
      ],
      "execution_count": null,
      "outputs": []
    },
    {
      "cell_type": "code",
      "metadata": {
        "id": "8L6waG1f6yhq"
      },
      "source": [
        "summary_text = review_5['reviewText'].values \n",
        "\n",
        "summary_wordcloud = wc.generate(str(summary_text))\n",
        "\n",
        "plt.figure(figsize = (10,10))\n",
        "plt.imshow(review_wordcloud, interpolation = 'bilinear')\n",
        "plt.title('5 star : reviewText')\n",
        "plt.axis(\"off\")\n",
        "plt.show()"
      ],
      "execution_count": null,
      "outputs": []
    },
    {
      "cell_type": "code",
      "metadata": {
        "id": "wNV0WtoO8qUR"
      },
      "source": [
        "review_5[['reviewText','summary']].sample(10)"
      ],
      "execution_count": null,
      "outputs": []
    },
    {
      "cell_type": "code",
      "metadata": {
        "id": "cbIg5GDT7HS5"
      },
      "source": [
        "summary_text = review_43['reviewText'].values \n",
        "\n",
        "summary_wordcloud = wc.generate(str(summary_text))\n",
        "\n",
        "plt.figure(figsize = (10,10))\n",
        "plt.imshow(review_wordcloud, interpolation = 'bilinear')\n",
        "plt.title('3, 4 star : reviewText')\n",
        "plt.axis(\"off\")\n",
        "plt.show()"
      ],
      "execution_count": null,
      "outputs": []
    },
    {
      "cell_type": "code",
      "metadata": {
        "id": "zPHBXgEd8lxu"
      },
      "source": [
        "review_43[['reviewText','summary']].sample(10)"
      ],
      "execution_count": null,
      "outputs": []
    },
    {
      "cell_type": "code",
      "metadata": {
        "id": "vsSQWFM27Jgg"
      },
      "source": [
        "summary_text = review_21['reviewText'].values \n",
        "\n",
        "summary_wordcloud = wc.generate(str(summary_text))\n",
        "\n",
        "plt.figure(figsize = (10,10))\n",
        "plt.imshow(review_wordcloud, interpolation = 'bilinear')\n",
        "plt.title('1, 2 star : reviewText')\n",
        "plt.axis(\"off\")\n",
        "plt.show()"
      ],
      "execution_count": null,
      "outputs": []
    },
    {
      "cell_type": "code",
      "metadata": {
        "id": "sdN7ADCi8b1_"
      },
      "source": [
        "review_21[['reviewText','summary']].sample(10)"
      ],
      "execution_count": null,
      "outputs": []
    },
    {
      "cell_type": "code",
      "metadata": {
        "id": "jnRUDwxP5S2D"
      },
      "source": [
        "summary_text = x['summary'].values \n",
        "\n",
        "summary_wordcloud = wc.generate(str(summary_text))\n",
        "\n",
        "plt.figure(figsize = (10,10))\n",
        "plt.imshow(review_wordcloud, interpolation = 'bilinear')\n",
        "plt.title('summary')\n",
        "plt.axis(\"off\")\n",
        "plt.show()"
      ],
      "execution_count": null,
      "outputs": []
    },
    {
      "cell_type": "markdown",
      "metadata": {
        "id": "xDdUdm2-EbuR"
      },
      "source": [
        "### 学習用データ分割"
      ]
    },
    {
      "cell_type": "code",
      "metadata": {
        "id": "-yq6cYaEE7jO"
      },
      "source": [
        "from sklearn.model_selection import train_test_split"
      ],
      "execution_count": null,
      "outputs": []
    },
    {
      "cell_type": "code",
      "metadata": {
        "id": "HxNiADaU1bvg"
      },
      "source": [
        "x_train, x_test, y_train, y_test = train_test_split(x, y, test_size=0.25, random_state=1234)"
      ],
      "execution_count": null,
      "outputs": []
    },
    {
      "cell_type": "code",
      "metadata": {
        "id": "vQu8zLNcCKnA"
      },
      "source": [
        "from sklearn.feature_extraction.text import CountVectorizer\n",
        "from sklearn.feature_extraction.text import TfidfVectorizer\n",
        "from sklearn.metrics import classification_report,confusion_matrix,accuracy_score"
      ],
      "execution_count": null,
      "outputs": []
    },
    {
      "cell_type": "code",
      "metadata": {
        "id": "95EMKWK-CF5A"
      },
      "source": [
        "cv=CountVectorizer(min_df=0,max_df=1,binary=False,ngram_range=(1,3))\n",
        "#transformed train reviews\n",
        "cv_train_reviews=cv.fit_transform(x_train)\n",
        "#transformed test reviews\n",
        "cv_test_reviews=cv.transform(x_test)\n",
        "\n",
        "print('BOW_cv_train:',cv_train_reviews.shape)\n",
        "print('BOW_cv_test:',cv_test_reviews.shape)"
      ],
      "execution_count": null,
      "outputs": []
    },
    {
      "cell_type": "code",
      "metadata": {
        "id": "IOhvpJXVCV8c"
      },
      "source": [
        "tv=TfidfVectorizer(min_df=0,max_df=1,use_idf=True,ngram_range=(1,3))\n",
        "#transformed train reviews\n",
        "tv_train_reviews=tv.fit_transform(x_train)\n",
        "#transformed test reviews\n",
        "tv_test_reviews=tv.transform(x_test)\n",
        "print('Tfidf_train:',tv_train_reviews.shape)\n",
        "print('Tfidf_test:',tv_test_reviews.shape)"
      ],
      "execution_count": null,
      "outputs": []
    },
    {
      "cell_type": "markdown",
      "metadata": {
        "id": "KsCyZMlyHQ25"
      },
      "source": [
        "## 分析"
      ]
    },
    {
      "cell_type": "markdown",
      "metadata": {
        "id": "e-CKTkCBHIGK"
      },
      "source": [
        "### ロジスティック回帰で分類"
      ]
    },
    {
      "cell_type": "code",
      "metadata": {
        "id": "UKlgYOu-Cetx"
      },
      "source": [
        "lr=LogisticRegression(penalty='l2',max_iter=500,C=1,random_state=0)\n",
        "# Bag of words\n",
        "lr_bow=lr.fit(cv_train_reviews,y_train)\n",
        "print(lr_bow)\n",
        "# TF-IDF 特徴量\n",
        "lr_tfidf=lr.fit(tv_train_reviews,y_train)\n",
        "print(lr_tfidf)"
      ],
      "execution_count": null,
      "outputs": []
    },
    {
      "cell_type": "markdown",
      "metadata": {
        "id": "wnpULX8jNbtX"
      },
      "source": [
        "LogisticRegression(C=1, class_weight=None, dual=False, fit_intercept=True,\n",
        "                   intercept_scaling=1, l1_ratio=None, max_iter=500,\n",
        "                   multi_class='auto', n_jobs=None, penalty='l2',\n",
        "                   random_state=0, solver='lbfgs', tol=0.0001, verbose=0,\n",
        "                   warm_start=False)"
      ]
    },
    {
      "cell_type": "code",
      "metadata": {
        "id": "X2qUvcNLFVi3"
      },
      "source": [
        "# Bag of words で予測する\n",
        "lr_bow_predict=lr.predict(cv_test_reviews)\n",
        "# TF-IDF で予測する\n",
        "lr_tfidf_predict=lr.predict(tv_test_reviews)"
      ],
      "execution_count": null,
      "outputs": []
    },
    {
      "cell_type": "code",
      "metadata": {
        "id": "Qep7BCePFZlI"
      },
      "source": [
        "# Bag of words の精度\n",
        "lr_bow_score=accuracy_score(y_test,lr_bow_predict)\n",
        "print(\"lr_bow_score :\",lr_bow_score)\n",
        "# TF-IDF の精度\n",
        "lr_tfidf_score=accuracy_score(y_test,lr_tfidf_predict)\n",
        "print(\"lr_tfidf_score :\",lr_tfidf_score)"
      ],
      "execution_count": null,
      "outputs": []
    },
    {
      "cell_type": "markdown",
      "metadata": {
        "id": "deGu2N3yNWW6"
      },
      "source": [
        "lr_bow_score : 0.6312714623377782\n",
        "\n",
        "lr_tfidf_score : 0.5994737546269455"
      ]
    },
    {
      "cell_type": "code",
      "metadata": {
        "id": "jkl11E69Gdaj"
      },
      "source": [
        "lr_bow_report=classification_report(y_test,lr_bow_predict, target_names=['1','2', '3', '4', '5'])\n",
        "print(lr_bow_report)\n",
        "\n",
        "#Classification report for tfidf features\n",
        "lr_tfidf_report=classification_report(y_test,lr_tfidf_predict, target_names=['1','2', '3', '4', '5'])\n",
        "print(lr_tfidf_report)"
      ],
      "execution_count": null,
      "outputs": []
    },
    {
      "cell_type": "markdown",
      "metadata": {
        "id": "saMWK3T3NgLz"
      },
      "source": [
        "              precision    recall  f1-score   support\n",
        "\n",
        "           1       0.83      0.10      0.18      2745\n",
        "           2       0.90      0.07      0.14      1336\n",
        "           3       0.91      0.07      0.12      1700\n",
        "           4       0.85      0.08      0.15      3200\n",
        "           5       0.62      1.00      0.77     13442\n",
        "\n",
        "    accuracy                           0.63     22423\n",
        "   macro avg       0.82      0.26      0.27     22423\n",
        "weighted avg       0.72      0.63      0.52     22423\n",
        "\n",
        "              precision    recall  f1-score   support\n",
        "\n",
        "           1       0.00      0.00      0.00      2745\n",
        "           2       0.00      0.00      0.00      1336\n",
        "           3       0.00      0.00      0.00      1700\n",
        "           4       0.00      0.00      0.00      3200\n",
        "           5       0.60      1.00      0.75     13442\n",
        "\n",
        "    accuracy                           0.60     22423\n",
        "   macro avg       0.12      0.20      0.15     22423\n",
        "weighted avg       0.36      0.60      0.45     22423"
      ]
    },
    {
      "cell_type": "markdown",
      "metadata": {
        "id": "7l-D26i1LGjD"
      },
      "source": [
        "### ランダムフォレストで分析\n",
        "\n",
        "時間がかかるため、なし。\n",
        "\n",
        "```python\n",
        "from sklearn.ensemble import RandomForestClassifier\n",
        "\n",
        "clf = RandomForestClassifier(random_state=1234)\n",
        "clf.fit(tv_train_reviews, y_train)\n",
        "```\n",
        "\n",
        "```python\n",
        "print(\"score : \", clf.score(x_test, y_test))\n",
        "```\n",
        "\n",
        "```python\n",
        "from sklearn.metrics import confusion_matrix, accuracy_score\n",
        "\n",
        "cm = confusion_matrix(y_val, y_pred)\n",
        "print(cm)\n",
        "acc = accuracy_score(y_val, y_pred)\n",
        "print(acc)\n",
        "```"
      ]
    },
    {
      "cell_type": "markdown",
      "metadata": {
        "id": "GbhfKDAgHAb_"
      },
      "source": [
        "### LSTM で分析"
      ]
    },
    {
      "cell_type": "code",
      "metadata": {
        "id": "HAUTN8i4OCqD"
      },
      "source": [
        "import keras\n",
        "from keras.layers import Dense,LSTM\n",
        "from keras.models import Sequential"
      ],
      "execution_count": null,
      "outputs": []
    },
    {
      "cell_type": "code",
      "metadata": {
        "id": "S2vfd9LcHEHU"
      },
      "source": [
        "model = Sequential()\n",
        "model.add(Dense(units=75 , activation = 'relu' , input_dim = cv_train_reviews.shape[1]))\n",
        "model.add(Dense(units=50 , activation = 'relu'))\n",
        "model.add(Dense(units=25 , activation = 'relu'))\n",
        "model.add(Dense(units=10 , activation = 'relu')) \n",
        "model.add(Dense(units=1 , activation = 'sigmoid'))\n",
        "model.compile(optimizer='adam' , loss='categorical_crossentropy' , metrics=['accuracy'])"
      ],
      "execution_count": null,
      "outputs": []
    },
    {
      "cell_type": "code",
      "metadata": {
        "id": "23XWuLGPTRcU"
      },
      "source": [
        "model.summary()"
      ],
      "execution_count": null,
      "outputs": []
    },
    {
      "cell_type": "code",
      "metadata": {
        "id": "9LiQwzVYTW3D"
      },
      "source": [
        "model.fit(cv_train_reviews,y_train , epochs = 10)"
      ],
      "execution_count": null,
      "outputs": []
    },
    {
      "cell_type": "code",
      "metadata": {
        "id": "OdHX0ks7Tawv"
      },
      "source": [
        "model.evaluate(cv_test_reviews,y_test)[1]"
      ],
      "execution_count": null,
      "outputs": []
    }
  ]
}